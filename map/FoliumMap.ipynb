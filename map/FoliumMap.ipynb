{
 "cells": [
  {
   "cell_type": "code",
   "execution_count": 32,
   "id": "1e7c560c",
   "metadata": {},
   "outputs": [],
   "source": [
    "import folium\n",
    "\n",
    "\n",
    "m = folium.Map(location=[51.0066, 5.8581], zoom_start=10)"
   ]
  },
  {
   "cell_type": "code",
   "execution_count": 34,
   "id": "5404feda",
   "metadata": {},
   "outputs": [
    {
     "data": {
      "text/plain": [
       "<folium.map.Marker at 0x20160961e80>"
      ]
     },
     "execution_count": 34,
     "metadata": {},
     "output_type": "execute_result"
    }
   ],
   "source": [
    "tooltip = \"Click me!\"\n",
    "\n",
    "folium.Marker(\n",
    "    location=[50.9285, 5.9993],\n",
    "    popup=\"Brunssumerheide\",\n",
    "    icon=folium.Icon(color=\"green\", icon=\"tree-conifer\"),\n",
    "    tooltip=tooltip,\n",
    ").add_to(m)\n",
    "\n",
    "folium.Marker(\n",
    "    location=[50.9461, 5.9851],\n",
    "    popup=\"Schutterspark\",\n",
    "    icon=folium.Icon(color=\"green\", icon=\"tree-conifer\"),\n",
    ").add_to(m)\n",
    "\n",
    "folium.Marker(\n",
    "    location=[50.8862, 6.0269],\n",
    "    popup=\"Trap Wilhelminaberg\",\n",
    "    icon=folium.Icon(color=\"green\", icon=\"tree-conifer\"),\n",
    ").add_to(m)\n",
    "\n",
    "folium.Marker(\n",
    "    location=[50.9305, 5.7384],\n",
    "    popup=\"Preuverie Auwt Gäöl\",\n",
    "    icon=folium.Icon(color=\"red\", icon=\"cutlery\"),\n",
    ").add_to(m)\n",
    "\n",
    "folium.Marker(\n",
    "    location=[50.9727, 5.8893],\n",
    "    popup=\"WINDRAAK31\",\n",
    "    icon=folium.Icon(color=\"red\", icon=\"cutlery\"),\n",
    ").add_to(m)\n",
    "\n",
    "folium.Marker(\n",
    "    location=[50.9992, 5.8639],\n",
    "    popup=\"Omnomnom Sittard\",\n",
    "    icon=folium.Icon(color=\"red\", icon=\"cutlery\"),\n",
    ").add_to(m)\n",
    "\n",
    "folium.Marker(\n",
    "    location=[51.0380, 5.9873],\n",
    "    popup=\"Café aan de Müehle\",\n",
    "    icon=folium.Icon(color=\"blue\", icon=\"tower\"),\n",
    ").add_to(m)\n",
    "\n",
    "folium.Marker(\n",
    "    location=[51.1411, 5.830],\n",
    "    popup=\"De Hompesche Molen\",\n",
    "    icon=folium.Icon(color=\"blue\", icon=\"tower\"),\n",
    ").add_to(m)"
   ]
  },
  {
   "cell_type": "code",
   "execution_count": 35,
   "id": "5e8eb837",
   "metadata": {},
   "outputs": [],
   "source": [
    "m.save(\"map.html\")"
   ]
  },
  {
   "cell_type": "code",
   "execution_count": null,
   "id": "308e5a2a",
   "metadata": {},
   "outputs": [],
   "source": []
  }
 ],
 "metadata": {
  "kernelspec": {
   "display_name": "Python 3",
   "language": "python",
   "name": "python3"
  },
  "language_info": {
   "codemirror_mode": {
    "name": "ipython",
    "version": 3
   },
   "file_extension": ".py",
   "mimetype": "text/x-python",
   "name": "python",
   "nbconvert_exporter": "python",
   "pygments_lexer": "ipython3",
   "version": "3.8.8"
  }
 },
 "nbformat": 4,
 "nbformat_minor": 5
}
