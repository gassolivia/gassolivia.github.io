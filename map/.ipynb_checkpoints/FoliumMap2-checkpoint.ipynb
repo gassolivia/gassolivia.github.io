{
 "cells": [
  {
   "cell_type": "code",
   "execution_count": null,
   "id": "420943ce",
   "metadata": {},
   "outputs": [],
   "source": [
    "import pandas\n",
    "import os\n",
    "import folium\n",
    "from folium import IFrame\n",
    "import base64\n",
    "\n",
    "\n",
    "filelist = []\n",
    "for photos in os.listdir(os.curdir):\n",
    "    if photos.endswith(\".jpg\"):\n",
    "            filelist.append(photos)\n",
    "\n",
    "latlist = [51.50,51.51,51.50]\n",
    "lonlist = [-0.01,0,0.01]\n",
    "\n",
    "index = range(1,len(filelist)+1)\n",
    "columns = ['Filename','Lat','Lon']         \n",
    "df = pandas.DataFrame(index=index, columns=columns)\n",
    "\n",
    "df['Filename']=filelist\n",
    "df['Lat']=latlist\n",
    "df['Lon']=lonlist\n",
    "\n",
    "#Create map object:\n",
    "map=folium.Map(location=[df['Lat'].mean(),df['Lon'].mean()],zoom_start=13,tiles='Stamen Terrain')\n",
    "\n",
    "for lat,lon,Filename in zip(df['Lat'],df['Lon'],df['Filename']):\n",
    "    encoded = base64.b64encode(open(Filename, 'rb').read())\n",
    "    html = '<img src=\"data:image/jpeg;base64,{}\">'.format\n",
    "    resolution, width, height = 75, 50, 25\n",
    "    iframe = IFrame(html(encoded.decode('UTF-8')), width=(width*resolution)+20, height=(height*resolution)+20)\n",
    "    popup = folium.Popup(iframe, max_width=1000)\n",
    "    icon = folium.Icon(color=\"red\", icon=\"ok\")\n",
    "    marker = folium.Marker(location=[lat, lon], popup=popup, icon=icon)\n",
    "    marker.add_to(map)\n",
    "\n",
    "map.save(outfile='TestMap.html')"
   ]
  },
  {
   "cell_type": "code",
   "execution_count": null,
   "id": "ec68d6e7",
   "metadata": {},
   "outputs": [],
   "source": [
    "So basically it looks like this:\n",
    "Filename ='abc.jpg'\n",
    "encoded = base64.b64encode(open(Filename, 'rb').read())\n",
    "html='《img src=\"data:image/jpeg;base64,{}\"》'.format #replace 《》with <>\n",
    "resolution, width, height = 75, 50, 25\n",
    "iframe = IFrame(html(encoded.decode('UTF-8')), width=(widthresolution)+20, height=(heightresolution)+20)\n",
    "popup = folium.Popup(iframe, max_width=1000)\n",
    "icon = folium.Icon(color=\"red\", icon=\"ok\")\n",
    "marker = folium.Marker(location=[37.426, -122.085], popup=popup, icon=icon)\n",
    "marker.add_to(m)"
   ]
  },
  {
   "cell_type": "code",
   "execution_count": 40,
   "id": "30597f19",
   "metadata": {},
   "outputs": [
    {
     "ename": "IndexError",
     "evalue": "Replacement index 1 out of range for positional args tuple",
     "output_type": "error",
     "traceback": [
      "\u001b[1;31m---------------------------------------------------------------------------\u001b[0m",
      "\u001b[1;31mIndexError\u001b[0m                                Traceback (most recent call last)",
      "\u001b[1;32m<ipython-input-40-7dad0472c6a1>\u001b[0m in \u001b[0;36m<module>\u001b[1;34m\u001b[0m\n\u001b[0;32m     30\u001b[0m     \u001b[1;31m#html = '<h3>This is a big popup</h3> <img src=\"data:image/jpeg;base64,{}\">'.format\u001b[0m\u001b[1;33m\u001b[0m\u001b[1;33m\u001b[0m\u001b[1;33m\u001b[0m\u001b[0m\n\u001b[0;32m     31\u001b[0m \u001b[1;33m\u001b[0m\u001b[0m\n\u001b[1;32m---> 32\u001b[1;33m     \u001b[0mhtml\u001b[0m \u001b[1;33m=\u001b[0m \u001b[1;34m'<h3>{}</h3> <img src=\"data:image/jpeg;base64,{}\">'\u001b[0m\u001b[1;33m.\u001b[0m\u001b[0mformat\u001b[0m\u001b[1;33m(\u001b[0m\u001b[0mFilename\u001b[0m\u001b[1;33m,\u001b[0m\u001b[1;33m)\u001b[0m\u001b[1;33m\u001b[0m\u001b[1;33m\u001b[0m\u001b[0m\n\u001b[0m\u001b[0;32m     33\u001b[0m     \u001b[0mresolution\u001b[0m\u001b[1;33m,\u001b[0m \u001b[0mwidth\u001b[0m\u001b[1;33m,\u001b[0m \u001b[0mheight\u001b[0m \u001b[1;33m=\u001b[0m \u001b[1;36m75\u001b[0m\u001b[1;33m,\u001b[0m \u001b[1;36m300\u001b[0m\u001b[1;33m,\u001b[0m \u001b[1;36m350\u001b[0m\u001b[1;33m\u001b[0m\u001b[1;33m\u001b[0m\u001b[0m\n\u001b[0;32m     34\u001b[0m     \u001b[0miframe\u001b[0m \u001b[1;33m=\u001b[0m \u001b[0mIFrame\u001b[0m\u001b[1;33m(\u001b[0m\u001b[0mhtml\u001b[0m\u001b[1;33m(\u001b[0m\u001b[0mencoded\u001b[0m\u001b[1;33m.\u001b[0m\u001b[0mdecode\u001b[0m\u001b[1;33m(\u001b[0m\u001b[1;34m'UTF-8'\u001b[0m\u001b[1;33m)\u001b[0m\u001b[1;33m)\u001b[0m\u001b[1;33m,\u001b[0m \u001b[0mwidth\u001b[0m\u001b[1;33m=\u001b[0m\u001b[0mwidth\u001b[0m\u001b[1;33m+\u001b[0m\u001b[1;36m20\u001b[0m\u001b[1;33m,\u001b[0m \u001b[0mheight\u001b[0m\u001b[1;33m=\u001b[0m\u001b[0mheight\u001b[0m\u001b[1;33m+\u001b[0m\u001b[1;36m20\u001b[0m\u001b[1;33m)\u001b[0m\u001b[1;33m\u001b[0m\u001b[1;33m\u001b[0m\u001b[0m\n",
      "\u001b[1;31mIndexError\u001b[0m: Replacement index 1 out of range for positional args tuple"
     ]
    }
   ],
   "source": [
    "import pandas\n",
    "import os\n",
    "import folium\n",
    "from folium import IFrame\n",
    "import base64\n",
    "\n",
    "filelist = []\n",
    "for photos in os.listdir(os.curdir):\n",
    "    if photos.endswith(\".jpg\"):\n",
    "            filelist.append(photos)\n",
    "\n",
    "namelist = [\"Brunssumerheide\",\"Schutterspark\",\"Trap Wilhelminaberg\"]\n",
    "latlist = [50.9285,50.9461,50.8862]\n",
    "lonlist = [5.9993,5.9851,6.0269]\n",
    "\n",
    "index = range(1,len(filelist)+1)\n",
    "columns = ['Filename', 'Filepic','Lat','Lon']         \n",
    "df = pandas.DataFrame(index=index, columns=columns)\n",
    "\n",
    "df['Filename']=namelist\n",
    "df['Filepic']=filelist\n",
    "df['Lat']=latlist\n",
    "df['Lon']=lonlist\n",
    "\n",
    "#Create map object:\n",
    "m=folium.Map(location=[51.0, 5.8],zoom_start=10)\n",
    "\n",
    "for lat,lon,Filepic,Filename in zip(df['Lat'],df['Lon'],df['Filepic'],df['Filename']):\n",
    "    encoded = base64.b64encode(open(Filepic, 'rb').read())\n",
    "    #html = '<h3>This is a big popup</h3> <img src=\"data:image/jpeg;base64,{}\">'.format\n",
    "    \n",
    "    html = '<h3>{}</h3> <img src=\"data:image/jpeg;base64,{}\">'.format(Filename,)\n",
    "    resolution, width, height = 75, 300, 350\n",
    "    iframe = IFrame(html(encoded.decode('UTF-8')), width=width+20, height=height+20)\n",
    "    popup = folium.Popup(iframe, max_width=1000)\n",
    "    popup = folium.Popup(html)    \n",
    "    icon = folium.Icon(color=\"green\", icon=\"tree-conifer\")\n",
    "    marker = folium.Marker(location=[lat, lon], popup=popup, icon=icon)\n",
    "    marker.add_to(m)\n",
    "\n",
    "m\n",
    "\n"
   ]
  },
  {
   "cell_type": "code",
   "execution_count": 13,
   "id": "20c5e5a5",
   "metadata": {},
   "outputs": [],
   "source": [
    "m.save(\"map.html\")"
   ]
  },
  {
   "cell_type": "code",
   "execution_count": 37,
   "id": "d720f91d",
   "metadata": {},
   "outputs": [
    {
     "data": {
      "text/plain": [
       "'<h3>Brunssum</h3>'"
      ]
     },
     "execution_count": 37,
     "metadata": {},
     "output_type": "execute_result"
    }
   ],
   "source": [
    "Filename = \"Brunssum\"\n",
    "html = '<h3>{}</h3>'.format(Filename)\n",
    "html"
   ]
  },
  {
   "cell_type": "code",
   "execution_count": null,
   "id": "96d7bdea",
   "metadata": {},
   "outputs": [],
   "source": []
  }
 ],
 "metadata": {
  "kernelspec": {
   "display_name": "Python 3",
   "language": "python",
   "name": "python3"
  },
  "language_info": {
   "codemirror_mode": {
    "name": "ipython",
    "version": 3
   },
   "file_extension": ".py",
   "mimetype": "text/x-python",
   "name": "python",
   "nbconvert_exporter": "python",
   "pygments_lexer": "ipython3",
   "version": "3.8.8"
  }
 },
 "nbformat": 4,
 "nbformat_minor": 5
}
